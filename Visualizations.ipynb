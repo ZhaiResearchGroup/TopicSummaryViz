{
 "cells": [
  {
   "cell_type": "code",
   "execution_count": 15,
   "metadata": {
    "collapsed": true
   },
   "outputs": [],
   "source": [
    "import numpy as np\n",
    "import matplotlib.pyplot as plt\n",
    "import os\n",
    "from sklearn.feature_extraction.text import CountVectorizer\n",
    "from sklearn.decomposition import LatentDirichletAllocation as LDA"
   ]
  },
  {
   "cell_type": "code",
   "execution_count": 16,
   "metadata": {
    "collapsed": true
   },
   "outputs": [],
   "source": [
    "dataset_path = 'dm_stories_tokenized/'\n",
    "files = os.listdir(dataset_path)"
   ]
  },
  {
   "cell_type": "code",
   "execution_count": 17,
   "metadata": {},
   "outputs": [
    {
     "name": "stdout",
     "output_type": "stream",
     "text": [
      "Will children of the future be taught solely by a computer ? That could be a possibility , according to Google 's vice-president of research Alfred Spector .\n",
      "\n",
      "He said he thinks apps and technologies that are widely derided as being distracting could actually improve how we learn .\n",
      "\n",
      "And he says this may lead to a future where students do not need to go to school in order to get a formal education .\n",
      "\n",
      "Google 's Alfred Spector -LRB- shown -RRB- says technology could replace teachers in future . He made the comments at the World-Changing Ideas Summit in New York . Tech we usually find distracting could be used to help students learn . He says even simple apps could improve their educational experience -LRB- stock image shown -RRB-\n",
      "\n",
      "Speaking at the BBC 's World-Changing Ideas Summit in New York earlier this week , he said even simple apps could improve education .\n",
      "\n",
      "He points to apps already on the market like Duolingo , which teaches languages through games , as beginning the shift to technology-based learning .\n",
      "\n",
      "Learning to read Braille - the tactile writing system used by people who are blind and visually impaired - is notoriously difficult .\n",
      "\n",
      "To make this a little easier , researchers have designed vibrating gloves that help people learn to read and write Braille with minimal effort .\n",
      "\n",
      "Vibrating motors at the knuckle of each finger in the gloves buzz to tell a wearer to press a corresponding key , and the system tells them which letter they are typing .\n",
      "\n",
      "` The process is based on passive haptic learning -LRB- PHL -RRB- , ' said Thad Starner , a Georgia Tech professor involved in the project .\n",
      "\n",
      "` We 've learned that people can acquire motor skills through vibrations without devoting active attention to their hands . '\n",
      "\n",
      "And he says that personal artificially intelligent tutors could be the next step to raise education levels for students even more .\n",
      "\n",
      "` If it were the case that technology could become custom tutors , then it 's possible to imagine enormous improvements in educational attainment , ' he said .\n",
      "\n",
      "And he continued that video games could be used to take the boredom out of studying , creating environments in which learning can be exciting .\n",
      "\n",
      "` We have user interfaces that are so exciting that people play video games for hours and hours a day , and they could be educated by them , ' he said .\n",
      "\n",
      "Social networks could also be used to increase students ' social skills , helping them communicate with one another more easily .\n",
      "\n",
      "Ultimately , Mr Spector says that these technologies combined could eradicate the need for schools .\n",
      "\n",
      "` In the past it seemed you had to go to a school to get formal education - there was no choice but to go to isolated places to be educated , but now we do n't have to do that , ' he said .\n",
      "\n",
      "` We may choose to but we do n't have to . '\n",
      "\n",
      "Mr Spector -LRB- left -RRB- also says video games could also be used to take the boredom out of studying . And it may lead to a future where AI serves as personal tutors . Ultimately he says this may reduce the need for school -LRB- stock image shown right -RRB- both for educational needs and socially as well thanks to social networks\n",
      "\n",
      "@highlight\n",
      "\n",
      "Google 's Alfred Spector says technology could replace teachers\n",
      "\n",
      "@highlight\n",
      "\n",
      "He made comments at the World-Changing Ideas Summit in New York\n",
      "\n",
      "@highlight\n",
      "\n",
      "Apps we usually find distracting could be used to help students learn\n",
      "\n",
      "@highlight\n",
      "\n",
      "These include apps like Duolingo that help people learn a language\n",
      "\n",
      "@highlight\n",
      "\n",
      "Video games could also be used to take the boredom out of studying\n",
      "\n",
      "@highlight\n",
      "\n",
      "And it may lead to a future where AI serves as personal tutors\n"
     ]
    }
   ],
   "source": [
    "print(open(dataset_path + files[0]).read())"
   ]
  },
  {
   "cell_type": "code",
   "execution_count": 18,
   "metadata": {},
   "outputs": [],
   "source": [
    "documents = []\n",
    "summaries = []\n",
    "summary_lengths = {}\n",
    "\n",
    "for i in range(len(files)):\n",
    "    filename = files[i]\n",
    "    in_summary = False\n",
    "    summary = []\n",
    "    document = []\n",
    "    with open(dataset_path + filename, 'r') as file:\n",
    "        lines = file.readlines()\n",
    "        for line in lines:        \n",
    "            line = line.strip()\n",
    "            if '@highlight' in line:\n",
    "                in_summary = True\n",
    "                continue\n",
    "                \n",
    "            if (len(line) == 0):\n",
    "                continue\n",
    "                \n",
    "            if in_summary:\n",
    "                summary.append(line)\n",
    "            else:\n",
    "                document.append(line)\n",
    "        file.close()\n",
    "        \n",
    "    documents.append('. '.join(document))\n",
    "    summaries.append('. '.join(summary))\n",
    "        \n",
    "    if str(len(summary)) in summary_lengths:\n",
    "        summary_lengths[str(len(summary))].append(i)\n",
    "    else:\n",
    "        summary_lengths[str(len(summary))] = [i]\n",
    "        "
   ]
  },
  {
   "cell_type": "code",
   "execution_count": 19,
   "metadata": {},
   "outputs": [
    {
     "name": "stdout",
     "output_type": "stream",
     "text": [
      "DOC: ----- \n",
      "Will children of the future be taught solely by a computer ? That could be a possibility , according to Google 's vice-president of research Alfred Spector .. He said he thinks apps and technologies that are widely derided as being distracting could actually improve how we learn .. And he says this may lead to a future where students do not need to go to school in order to get a formal education .. Google 's Alfred Spector -LRB- shown -RRB- says technology could replace teachers in future . He made the comments at the World-Changing Ideas Summit in New York . Tech we usually find distracting could be used to help students learn . He says even simple apps could improve their educational experience -LRB- stock image shown -RRB-. Speaking at the BBC 's World-Changing Ideas Summit in New York earlier this week , he said even simple apps could improve education .. He points to apps already on the market like Duolingo , which teaches languages through games , as beginning the shift to technology-based learning .. Learning to read Braille - the tactile writing system used by people who are blind and visually impaired - is notoriously difficult .. To make this a little easier , researchers have designed vibrating gloves that help people learn to read and write Braille with minimal effort .. Vibrating motors at the knuckle of each finger in the gloves buzz to tell a wearer to press a corresponding key , and the system tells them which letter they are typing .. ` The process is based on passive haptic learning -LRB- PHL -RRB- , ' said Thad Starner , a Georgia Tech professor involved in the project .. ` We 've learned that people can acquire motor skills through vibrations without devoting active attention to their hands . '. And he says that personal artificially intelligent tutors could be the next step to raise education levels for students even more .. ` If it were the case that technology could become custom tutors , then it 's possible to imagine enormous improvements in educational attainment , ' he said .. And he continued that video games could be used to take the boredom out of studying , creating environments in which learning can be exciting .. ` We have user interfaces that are so exciting that people play video games for hours and hours a day , and they could be educated by them , ' he said .. Social networks could also be used to increase students ' social skills , helping them communicate with one another more easily .. Ultimately , Mr Spector says that these technologies combined could eradicate the need for schools .. ` In the past it seemed you had to go to a school to get formal education - there was no choice but to go to isolated places to be educated , but now we do n't have to do that , ' he said .. ` We may choose to but we do n't have to . '. Mr Spector -LRB- left -RRB- also says video games could also be used to take the boredom out of studying . And it may lead to a future where AI serves as personal tutors . Ultimately he says this may reduce the need for school -LRB- stock image shown right -RRB- both for educational needs and socially as well thanks to social networks\n",
      "SUMMARY: ----- \n",
      "Google 's Alfred Spector says technology could replace teachers. He made comments at the World-Changing Ideas Summit in New York. Apps we usually find distracting could be used to help students learn. These include apps like Duolingo that help people learn a language. Video games could also be used to take the boredom out of studying. And it may lead to a future where AI serves as personal tutors\n",
      "LENGTHS: -----\n",
      "{'6': [0, 6, 49, 56, 67, 74, 75, 98, 104, 125, 151, 190, 195, 205, 217, 219, 222, 223, 227, 233, 252, 253, 265, 269, 295, 300, 307, 346, 354, 362, 375, 396, 412, 413, 426, 438, 442, 444, 460, 472, 477, 479, 498, 502, 537, 540, 542, 544, 547], '2': [1, 9, 35, 37, 82, 89, 96, 99, 101, 103, 106, 115, 129, 141, 143, 150, 153, 176, 188, 192, 194, 201, 209, 224, 225, 226, 260, 266, 310, 321, 323, 330, 332, 348, 366, 369, 373, 380, 388, 405, 408, 410, 419, 421, 449, 450, 454, 463, 467, 470, 478, 494, 516, 519, 524, 548, 569], '5': [2, 11, 33, 58, 72, 79, 80, 85, 86, 91, 92, 102, 109, 113, 118, 138, 163, 173, 174, 177, 179, 183, 184, 186, 189, 191, 200, 207, 220, 221, 228, 248, 257, 258, 264, 268, 272, 273, 277, 279, 302, 312, 322, 325, 326, 327, 328, 333, 335, 336, 337, 339, 342, 356, 365, 370, 372, 384, 387, 393, 398, 401, 402, 416, 420, 435, 436, 443, 453, 458, 471, 474, 483, 487, 490, 491, 493, 499, 505, 506, 509, 530, 531, 533, 534, 545, 550, 551, 552, 554, 555, 558, 566, 570], '4': [3, 4, 7, 14, 20, 22, 27, 29, 32, 40, 41, 44, 45, 46, 55, 57, 62, 64, 65, 68, 69, 70, 77, 83, 87, 95, 105, 110, 117, 119, 121, 123, 126, 128, 130, 131, 136, 139, 140, 144, 147, 149, 154, 157, 160, 162, 164, 165, 169, 171, 178, 180, 193, 196, 197, 198, 199, 202, 208, 218, 229, 230, 236, 237, 240, 241, 244, 245, 249, 250, 251, 254, 255, 271, 276, 280, 281, 288, 289, 292, 303, 304, 308, 314, 317, 331, 340, 341, 347, 349, 351, 357, 358, 361, 364, 367, 368, 374, 381, 383, 385, 392, 400, 404, 406, 407, 409, 418, 422, 424, 425, 434, 439, 440, 441, 445, 448, 455, 461, 462, 473, 475, 476, 480, 481, 482, 500, 507, 508, 510, 512, 513, 514, 517, 528, 532, 535, 536, 543, 549, 553, 557, 559, 562, 568, 572, 574], '3': [5, 8, 10, 12, 13, 15, 16, 17, 18, 19, 21, 23, 24, 25, 26, 30, 31, 34, 36, 42, 43, 47, 48, 50, 51, 52, 53, 54, 59, 60, 61, 63, 66, 71, 73, 76, 78, 81, 90, 93, 94, 100, 107, 111, 112, 114, 116, 120, 122, 127, 133, 134, 135, 137, 142, 146, 148, 155, 159, 161, 166, 168, 170, 172, 175, 181, 182, 185, 187, 203, 204, 206, 210, 211, 213, 214, 215, 216, 231, 232, 234, 235, 238, 239, 242, 243, 246, 256, 261, 262, 263, 267, 270, 274, 278, 284, 285, 286, 287, 290, 291, 293, 294, 296, 297, 298, 299, 301, 305, 309, 311, 316, 318, 319, 320, 324, 329, 334, 343, 344, 350, 352, 359, 371, 376, 377, 378, 379, 382, 386, 389, 390, 391, 394, 395, 397, 399, 403, 414, 415, 417, 428, 429, 430, 432, 433, 437, 447, 451, 456, 457, 459, 465, 466, 468, 469, 485, 486, 488, 489, 492, 495, 496, 501, 503, 504, 511, 515, 518, 520, 521, 523, 527, 529, 538, 539, 541, 546, 556, 560, 561, 563, 564, 567, 571], '7': [28, 38, 39, 88, 124, 145, 156, 158, 247, 283, 313, 345, 353, 423, 427, 431, 522, 565, 573], '8': [84, 97, 108, 275, 306, 360, 452], '9': [132, 315, 497], '0': [152], '1': [167, 212, 259, 282, 338, 355, 363, 411, 446, 464, 526], '10': [484], '12': [525]}\n"
     ]
    }
   ],
   "source": [
    "print(\"DOC: ----- \\n\" + documents[0])\n",
    "print(\"SUMMARY: ----- \\n\" + summaries[0])\n",
    "print(\"LENGTHS: -----\\n\" + str(summary_lengths))"
   ]
  },
  {
   "cell_type": "code",
   "execution_count": 20,
   "metadata": {},
   "outputs": [],
   "source": [
    "def plot_topic_range_error(summary_length, topic_range, summary_lengths, documents, summaries):\n",
    "    filtered_ids = summary_lengths[summary_length]\n",
    "    print('There are ' + str(len(filtered_ids)) + ' summaries of length ' + str(summary_length) + '.')\n",
    "    filtered_documents = [documents[doc_id] for doc_id in filtered_ids]\n",
    "    filtered_summaries = [summaries[doc_id] for doc_id in filtered_ids]\n",
    "    errors = {}\n",
    "\n",
    "    for num_topics in topic_range:\n",
    "        print('Training on: ' + str(num_topics) + ' topics.')\n",
    "        document_vectorizer = CountVectorizer()\n",
    "        summary_vectorizer = CountVectorizer()\n",
    "\n",
    "        doc_vector = document_vectorizer.fit_transform(filtered_documents)\n",
    "        summ_vector = summary_vectorizer.fit_transform(filtered_summaries)\n",
    "\n",
    "        document_lda = LDA(n_components=num_topics, learning_method='online')\n",
    "        summary_lda = LDA(n_components=num_topics, learning_method='online')\n",
    "\n",
    "        document_lda.fit(doc_vector)\n",
    "        summary_lda.fit(summ_vector)\n",
    "\n",
    "        doc_topics = document_lda.transform(doc_vector)\n",
    "        summ_topics = summary_lda.transform(summ_vector)\n",
    "\n",
    "        for doc_id in range(len(filtered_ids)):\n",
    "            topic_error = sum(np.square(doc_topics[doc_id] - summ_topics[doc_id])) / num_topics\n",
    "\n",
    "            if num_topics in errors:\n",
    "                errors[num_topics] += topic_error\n",
    "            else:\n",
    "                errors[num_topics] = topic_error\n",
    "\n",
    "    topic_errors = [errors[n_topics] for n_topics in errors]\n",
    "    plt.plot(topic_range, topic_errors)\n",
    "    plt.xlabel('Number of Topics')\n",
    "    plt.ylabel('Sum of Squared Errors')\n",
    "    plt.title('Length: ' + summary_length + ' Sentences')"
   ]
  },
  {
   "cell_type": "code",
   "execution_count": null,
   "metadata": {},
   "outputs": [
    {
     "name": "stdout",
     "output_type": "stream",
     "text": [
      "There are 57 summaries of length 2.\n",
      "Training on: 2 topics.\n",
      "Training on: 3 topics.\n",
      "Training on: 4 topics.\n",
      "Training on: 5 topics.\n",
      "Training on: 6 topics.\n",
      "Training on: 7 topics.\n",
      "Training on: 8 topics.\n",
      "Training on: 9 topics.\n"
     ]
    },
    {
     "data": {
      "image/png": "[encoded data removed]",
      "text/plain": [
       "<matplotlib.figure.Figure at 0x1122a7ba8>"
      ]
     },
     "metadata": {},
     "output_type": "display_data"
    }
   ],
   "source": [
    "plot_topic_range_error('2', np.arange(2, 10), summary_lengths, documents, summaries)"
   ]
  },
  {
   "cell_type": "code",
   "execution_count": null,
   "metadata": {},
   "outputs": [
    {
     "name": "stdout",
     "output_type": "stream",
     "text": [
      "There are 185 summaries of length 3.\n",
      "Training on: 2 topics.\n",
      "Training on: 3 topics.\n",
      "Training on: 4 topics.\n",
      "Training on: 5 topics.\n"
     ]
    }
   ],
   "source": [
    "plot_topic_range_error('3', np.arange(2, 10), summary_lengths, documents, summaries)"
   ]
  },
  {
   "cell_type": "code",
   "execution_count": null,
   "metadata": {},
   "outputs": [],
   "source": [
    "plot_topic_range_error('4', np.arange(2, 10), summary_lengths, documents, summaries)"
   ]
  },
  {
   "cell_type": "code",
   "execution_count": null,
   "metadata": {},
   "outputs": [],
   "source": [
    "plot_topic_range_error('5', np.arange(2, 10), summary_lengths, documents, summaries)"
   ]
  },
  {
   "cell_type": "code",
   "execution_count": null,
   "metadata": {
    "collapsed": true
   },
   "outputs": [],
   "source": []
  }
 ],
 "metadata": {
  "kernelspec": {
   "display_name": "Python 3",
   "language": "python",
   "name": "python3"
  },
  "language_info": {
   "codemirror_mode": {
    "name": "ipython",
    "version": 3
   },
   "file_extension": ".py",
   "mimetype": "text/x-python",
   "name": "python",
   "nbconvert_exporter": "python",
   "pygments_lexer": "ipython3",
   "version": "3.6.2"
  }
 },
 "nbformat": 4,
 "nbformat_minor": 2
}
